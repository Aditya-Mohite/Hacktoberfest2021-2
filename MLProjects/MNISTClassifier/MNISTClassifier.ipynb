{
 "cells": [
  {
   "cell_type": "markdown",
   "id": "dd9afc55-bb9a-4ce9-b00d-91d5e86b4804",
   "metadata": {},
   "source": [
    "# Imports and environment setup"
   ]
  },
  {
   "cell_type": "code",
   "execution_count": null,
   "id": "a5ad551f-f451-4146-bd90-59e302bbdfd4",
   "metadata": {},
   "outputs": [],
   "source": [
    "import pandas as pd\n",
    "import numpy as np\n",
    "import matplotlib.pyplot as plt"
   ]
  },
  {
   "cell_type": "markdown",
   "id": "bab197ce-5736-41cc-912a-69c70f43ef19",
   "metadata": {},
   "source": [
    "# Preprocessing"
   ]
  },
  {
   "cell_type": "markdown",
   "id": "b8be0310-b998-4bf0-839f-5cb0d4cbdecb",
   "metadata": {},
   "source": [
    "# Exploratory Data Analysis"
   ]
  },
  {
   "cell_type": "markdown",
   "id": "0c453069-6976-4952-955d-51ac49994086",
   "metadata": {},
   "source": [
    "# Model Training"
   ]
  }
 ],
 "metadata": {
  "kernelspec": {
   "display_name": "Python 3 (ipykernel)",
   "language": "python",
   "name": "python3"
  },
  "language_info": {
   "codemirror_mode": {
    "name": "ipython",
    "version": 3
   },
   "file_extension": ".py",
   "mimetype": "text/x-python",
   "name": "python",
   "nbconvert_exporter": "python",
   "pygments_lexer": "ipython3",
   "version": "3.9.7"
  }
 },
 "nbformat": 4,
 "nbformat_minor": 5
}
